{
  "nbformat": 4,
  "nbformat_minor": 0,
  "metadata": {
    "colab": {
      "provenance": [],
      "authorship_tag": "ABX9TyNz4nxXErRj9Mlp374IxkbT",
      "include_colab_link": true
    },
    "kernelspec": {
      "name": "python3",
      "display_name": "Python 3"
    },
    "language_info": {
      "name": "python"
    }
  },
  "cells": [
    {
      "cell_type": "markdown",
      "metadata": {
        "id": "view-in-github",
        "colab_type": "text"
      },
      "source": [
        "<a href=\"https://colab.research.google.com/github/bcdanl/210-class-notes/blob/main/danl-210-lec-06-2024-0208.ipynb\" target=\"_parent\"><img src=\"https://colab.research.google.com/assets/colab-badge.svg\" alt=\"Open In Colab\"/></a>"
      ]
    },
    {
      "cell_type": "code",
      "execution_count": null,
      "metadata": {
        "id": "NZpQG9cRd7D3"
      },
      "outputs": [],
      "source": [
        "---\n",
        "title: \"Python Basics\"\n",
        "author: \"Byeong-Hak Choe\"\n",
        "date: \"2024-02-07\"\n",
        "categories: [python]\n",
        "image: \"py-basic.png\"\n",
        "---"
      ]
    },
    {
      "cell_type": "markdown",
      "source": [
        "# Python Basic"
      ],
      "metadata": {
        "id": "jgqbkJiNd_m_"
      }
    },
    {
      "cell_type": "code",
      "source": [
        "# Here we assign the integer value 5 to the variable x.\n",
        "x = 5\n",
        "\n",
        "# Now we can use the variable x in the next line.\n",
        "y = x + 12\n",
        "y"
      ],
      "metadata": {
        "colab": {
          "base_uri": "https://localhost:8080/"
        },
        "id": "7W4AxTTMeB5y",
        "outputId": "3eae971d-e275-4853-d9a9-6b78fa5ab888"
      },
      "execution_count": 1,
      "outputs": [
        {
          "output_type": "execute_result",
          "data": {
            "text/plain": [
              "17"
            ]
          },
          "metadata": {},
          "execution_count": 1
        }
      ]
    },
    {
      "cell_type": "code",
      "source": [
        "list_example = [10, 1.23, \"like this\", True, None]\n",
        "print(list_example)\n",
        "type(list_example)"
      ],
      "metadata": {
        "colab": {
          "base_uri": "https://localhost:8080/"
        },
        "id": "B-djpIl7fHpt",
        "outputId": "9fabcc52-7c9a-4678-8e0e-d1d3697f03aa"
      },
      "execution_count": 3,
      "outputs": [
        {
          "output_type": "stream",
          "name": "stdout",
          "text": [
            "[10, 1.23, 'like this', True, None]\n"
          ]
        },
        {
          "output_type": "execute_result",
          "data": {
            "text/plain": [
              "list"
            ]
          },
          "metadata": {},
          "execution_count": 3
        }
      ]
    },
    {
      "cell_type": "code",
      "source": [
        "vector = ['a', 'b']"
      ],
      "metadata": {
        "id": "vL-8v3WafL29"
      },
      "execution_count": 4,
      "outputs": []
    },
    {
      "cell_type": "code",
      "source": [
        "vector[0]"
      ],
      "metadata": {
        "colab": {
          "base_uri": "https://localhost:8080/",
          "height": 37
        },
        "id": "N07bAHCPgpzy",
        "outputId": "b905e78f-008b-4ef6-839a-f333c22ac53b"
      },
      "execution_count": 6,
      "outputs": [
        {
          "output_type": "execute_result",
          "data": {
            "text/plain": [
              "'a'"
            ],
            "application/vnd.google.colaboratory.intrinsic+json": {
              "type": "string"
            }
          },
          "metadata": {},
          "execution_count": 6
        }
      ]
    },
    {
      "cell_type": "code",
      "source": [
        "vector[1]"
      ],
      "metadata": {
        "colab": {
          "base_uri": "https://localhost:8080/",
          "height": 37
        },
        "id": "3bHUr-RYg4WZ",
        "outputId": "c1ad4da8-d9bd-4b9e-80bf-df772745ce39"
      },
      "execution_count": 7,
      "outputs": [
        {
          "output_type": "execute_result",
          "data": {
            "text/plain": [
              "'b'"
            ],
            "application/vnd.google.colaboratory.intrinsic+json": {
              "type": "string"
            }
          },
          "metadata": {},
          "execution_count": 7
        }
      ]
    },
    {
      "cell_type": "code",
      "source": [
        "set_ex = {'a', 'b'}  # set\n",
        "dict_ex = {'first_letter': 'a', 'second_letter': 'b'}  # dictionary"
      ],
      "metadata": {
        "id": "GzAtHAFRhMew"
      },
      "execution_count": 9,
      "outputs": []
    },
    {
      "cell_type": "code",
      "source": [
        "type(set_ex)"
      ],
      "metadata": {
        "colab": {
          "base_uri": "https://localhost:8080/"
        },
        "id": "cgp1YdDkhek7",
        "outputId": "4cb758b8-d3df-422d-cc7d-ec1f475d26d8"
      },
      "execution_count": 10,
      "outputs": [
        {
          "output_type": "execute_result",
          "data": {
            "text/plain": [
              "set"
            ]
          },
          "metadata": {},
          "execution_count": 10
        }
      ]
    },
    {
      "cell_type": "code",
      "source": [
        "type(dict_ex)"
      ],
      "metadata": {
        "colab": {
          "base_uri": "https://localhost:8080/"
        },
        "id": "FJlnKZhfhkkw",
        "outputId": "b8645d49-fd93-4f12-eb57-725323f90ebf"
      },
      "execution_count": 11,
      "outputs": [
        {
          "output_type": "execute_result",
          "data": {
            "text/plain": [
              "dict"
            ]
          },
          "metadata": {},
          "execution_count": 11
        }
      ]
    },
    {
      "cell_type": "code",
      "source": [
        "num_tup = (1, 2, 3)\n",
        "sum(num_tup)"
      ],
      "metadata": {
        "colab": {
          "base_uri": "https://localhost:8080/"
        },
        "id": "7Zt_l2erh52j",
        "outputId": "82d15258-f77b-4343-e075-a336aaf209d9"
      },
      "execution_count": 12,
      "outputs": [
        {
          "output_type": "execute_result",
          "data": {
            "text/plain": [
              "6"
            ]
          },
          "metadata": {},
          "execution_count": 12
        }
      ]
    },
    {
      "cell_type": "code",
      "source": [
        "string_one = \"This is an example \"\n",
        "string_two = \"of string concatenation\"\n",
        "string_full = string_one + string_two\n",
        "print(string_full)"
      ],
      "metadata": {
        "colab": {
          "base_uri": "https://localhost:8080/"
        },
        "id": "yAnsjAO1iEKC",
        "outputId": "0d1dd3ce-4240-4a19-cf06-660162fdbb16"
      },
      "execution_count": 13,
      "outputs": [
        {
          "output_type": "stream",
          "name": "stdout",
          "text": [
            "This is an example of string concatenation\n"
          ]
        }
      ]
    },
    {
      "cell_type": "code",
      "source": [
        "list_one = [\"apples\", \"oranges\"]\n",
        "list_two = [\"pears\", \"satsumas\"]\n",
        "list_full = list_one + list_two\n",
        "print(list_full)"
      ],
      "metadata": {
        "colab": {
          "base_uri": "https://localhost:8080/"
        },
        "id": "gDVWdUMQinw0",
        "outputId": "87260efc-60f1-4116-c673-5c11b806146b"
      },
      "execution_count": 14,
      "outputs": [
        {
          "output_type": "stream",
          "name": "stdout",
          "text": [
            "['apples', 'oranges', 'pears', 'satsumas']\n"
          ]
        }
      ]
    },
    {
      "cell_type": "code",
      "source": [
        "string = \"apples, \"\n",
        "print(string * 3)"
      ],
      "metadata": {
        "colab": {
          "base_uri": "https://localhost:8080/"
        },
        "id": "MSbZilsJiq84",
        "outputId": "3597f1c0-2242-4547-e7a4-f83e99ae6625"
      },
      "execution_count": 15,
      "outputs": [
        {
          "output_type": "stream",
          "name": "stdout",
          "text": [
            "apples, apples, apples, \n"
          ]
        }
      ]
    },
    {
      "cell_type": "code",
      "source": [
        "2**5 / (7 * (4-2**3) )"
      ],
      "metadata": {
        "colab": {
          "base_uri": "https://localhost:8080/"
        },
        "id": "P8Rva-UqjSI7",
        "outputId": "771f4bdc-5426-4728-9e79-df9d4e0bfd8c"
      },
      "execution_count": 16,
      "outputs": [
        {
          "output_type": "execute_result",
          "data": {
            "text/plain": [
              "-1.1428571428571428"
            ]
          },
          "metadata": {},
          "execution_count": 16
        }
      ]
    },
    {
      "cell_type": "code",
      "source": [
        "10 == 20"
      ],
      "metadata": {
        "colab": {
          "base_uri": "https://localhost:8080/"
        },
        "id": "CgFQ-LK0j6iE",
        "outputId": "66caac95-a58d-45d1-bf4d-800d53db8d02"
      },
      "execution_count": 17,
      "outputs": [
        {
          "output_type": "execute_result",
          "data": {
            "text/plain": [
              "False"
            ]
          },
          "metadata": {},
          "execution_count": 17
        }
      ]
    },
    {
      "cell_type": "code",
      "source": [
        "\n",
        "10 == '10'"
      ],
      "metadata": {
        "colab": {
          "base_uri": "https://localhost:8080/"
        },
        "id": "FI22Wjmej7t2",
        "outputId": "9da6c91c-83a9-454a-bcd4-cee5509c6483"
      },
      "execution_count": 18,
      "outputs": [
        {
          "output_type": "execute_result",
          "data": {
            "text/plain": [
              "False"
            ]
          },
          "metadata": {},
          "execution_count": 18
        }
      ]
    },
    {
      "cell_type": "code",
      "source": [
        "10 == 10"
      ],
      "metadata": {
        "colab": {
          "base_uri": "https://localhost:8080/"
        },
        "id": "wqXD-HKNj9WY",
        "outputId": "de8ae8fa-de05-4c73-b254-b3bbb21d4723"
      },
      "execution_count": 19,
      "outputs": [
        {
          "output_type": "execute_result",
          "data": {
            "text/plain": [
              "True"
            ]
          },
          "metadata": {},
          "execution_count": 19
        }
      ]
    },
    {
      "cell_type": "code",
      "source": [
        "boolean_condition1 = 10 == 20\n",
        "print(boolean_condition1)\n"
      ],
      "metadata": {
        "colab": {
          "base_uri": "https://localhost:8080/"
        },
        "id": "zYFi0ttNlN5z",
        "outputId": "e8689dc4-da80-4f5e-cc57-546513252e7a"
      },
      "execution_count": 20,
      "outputs": [
        {
          "output_type": "stream",
          "name": "stdout",
          "text": [
            "False\n"
          ]
        }
      ]
    },
    {
      "cell_type": "code",
      "source": [
        "\n",
        "boolean_condition2 = 10 == '10'\n",
        "print(boolean_condition2)"
      ],
      "metadata": {
        "colab": {
          "base_uri": "https://localhost:8080/"
        },
        "id": "T8lnjpI8lPwI",
        "outputId": "cb9cb1bd-76d6-4583-ca96-4e482e33e425"
      },
      "execution_count": 21,
      "outputs": [
        {
          "output_type": "stream",
          "name": "stdout",
          "text": [
            "False\n"
          ]
        }
      ]
    },
    {
      "cell_type": "code",
      "source": [
        "not (not True)"
      ],
      "metadata": {
        "colab": {
          "base_uri": "https://localhost:8080/"
        },
        "id": "-iEi9k_ildgp",
        "outputId": "d5ab20de-0543-44c1-9232-7689f84b54bb"
      },
      "execution_count": 22,
      "outputs": [
        {
          "output_type": "execute_result",
          "data": {
            "text/plain": [
              "True"
            ]
          },
          "metadata": {},
          "execution_count": 22
        }
      ]
    },
    {
      "cell_type": "markdown",
      "source": [
        "Below is testing whether integer 20 is equal to string 20"
      ],
      "metadata": {
        "id": "HXgpZwW4lu4b"
      }
    },
    {
      "cell_type": "code",
      "source": [
        "20 == '20'"
      ],
      "metadata": {
        "colab": {
          "base_uri": "https://localhost:8080/"
        },
        "id": "635emP8vlsbg",
        "outputId": "48f4ee06-2099-49b0-eabf-86245609adf4"
      },
      "execution_count": 23,
      "outputs": [
        {
          "output_type": "execute_result",
          "data": {
            "text/plain": [
              "False"
            ]
          },
          "metadata": {},
          "execution_count": 23
        }
      ]
    },
    {
      "cell_type": "code",
      "source": [
        "x = 4.0\n",
        "y = .5\n",
        "z = 3*y - x\n",
        "\n",
        "x < y or 3*y < x"
      ],
      "metadata": {
        "colab": {
          "base_uri": "https://localhost:8080/"
        },
        "id": "Xy5JRFU-mTla",
        "outputId": "efd5c120-4a04-41fc-ea88-41a78d5ebc10"
      },
      "execution_count": 24,
      "outputs": [
        {
          "output_type": "execute_result",
          "data": {
            "text/plain": [
              "True"
            ]
          },
          "metadata": {},
          "execution_count": 24
        }
      ]
    },
    {
      "cell_type": "code",
      "source": [
        "x < y"
      ],
      "metadata": {
        "colab": {
          "base_uri": "https://localhost:8080/"
        },
        "id": "JqeNbm22mVgO",
        "outputId": "ec9544bd-4c99-4d93-c8f7-7f873ad3df86"
      },
      "execution_count": 25,
      "outputs": [
        {
          "output_type": "execute_result",
          "data": {
            "text/plain": [
              "False"
            ]
          },
          "metadata": {},
          "execution_count": 25
        }
      ]
    },
    {
      "cell_type": "code",
      "source": [
        "3*y < x"
      ],
      "metadata": {
        "colab": {
          "base_uri": "https://localhost:8080/"
        },
        "id": "RNknXub8mWzE",
        "outputId": "471a5144-6637-4c7c-a8fb-62a4d8158e51"
      },
      "execution_count": 26,
      "outputs": [
        {
          "output_type": "execute_result",
          "data": {
            "text/plain": [
              "True"
            ]
          },
          "metadata": {},
          "execution_count": 26
        }
      ]
    },
    {
      "cell_type": "code",
      "source": [
        "False or True"
      ],
      "metadata": {
        "colab": {
          "base_uri": "https://localhost:8080/"
        },
        "id": "9d8H8VbzmYgP",
        "outputId": "051390cf-c381-41a6-9469-23ea2f00bc18"
      },
      "execution_count": 27,
      "outputs": [
        {
          "output_type": "execute_result",
          "data": {
            "text/plain": [
              "True"
            ]
          },
          "metadata": {},
          "execution_count": 27
        }
      ]
    },
    {
      "cell_type": "code",
      "source": [
        "name = \"Geneseo\"\n",
        "score = 99\n",
        "\n",
        "if name == \"Geneseo\" and score > 90:\n",
        "    print(\"Geneseo, you achieved a high score.\")"
      ],
      "metadata": {
        "colab": {
          "base_uri": "https://localhost:8080/"
        },
        "id": "5LXPig9gnLYY",
        "outputId": "3460eb08-a61d-4bb4-bcd7-75d7060be55c"
      },
      "execution_count": 28,
      "outputs": [
        {
          "output_type": "stream",
          "name": "stdout",
          "text": [
            "Geneseo, you achieved a high score.\n"
          ]
        }
      ]
    },
    {
      "cell_type": "code",
      "source": [
        "if name == \"Geneseo\" or score > 90:\n",
        "    print(\"You could be called Geneseo or have a high score\")\n"
      ],
      "metadata": {
        "colab": {
          "base_uri": "https://localhost:8080/"
        },
        "id": "d2nf6Lh5nPEL",
        "outputId": "cf061c8c-fd20-47cc-ea23-287653998c22"
      },
      "execution_count": 29,
      "outputs": [
        {
          "output_type": "stream",
          "name": "stdout",
          "text": [
            "You could be called Geneseo or have a high score\n"
          ]
        }
      ]
    },
    {
      "cell_type": "code",
      "source": [
        "# below name != \"Geneseo\" evaluates to False so\n",
        "if name != \"Geneseo\" and score > 90:\n",
        "    print(\"You are not called Geneseo and you have a high score\")"
      ],
      "metadata": {
        "id": "MYXQdYItnY5p"
      },
      "execution_count": 30,
      "outputs": []
    },
    {
      "cell_type": "code",
      "source": [
        "name_list = [\"Lovelace\", \"Smith\", \"Hopper\", \"Babbage\"]\n",
        "\n",
        "print(\"Lovelace\" in name_list)"
      ],
      "metadata": {
        "colab": {
          "base_uri": "https://localhost:8080/"
        },
        "id": "YSXPR7r7oEiv",
        "outputId": "ac386221-99ca-44b0-d835-cd1fef186038"
      },
      "execution_count": 31,
      "outputs": [
        {
          "output_type": "stream",
          "name": "stdout",
          "text": [
            "True\n"
          ]
        }
      ]
    },
    {
      "cell_type": "code",
      "source": [
        "print(\"Bob\" in name_list)"
      ],
      "metadata": {
        "colab": {
          "base_uri": "https://localhost:8080/"
        },
        "id": "UTaTw7yYoFje",
        "outputId": "3720c5d0-5433-4446-eb64-668145a7edd6"
      },
      "execution_count": 32,
      "outputs": [
        {
          "output_type": "stream",
          "name": "stdout",
          "text": [
            "False\n"
          ]
        }
      ]
    },
    {
      "cell_type": "markdown",
      "source": [
        "Python is case-sensitive"
      ],
      "metadata": {
        "id": "RWNTDHY4oVBH"
      }
    },
    {
      "cell_type": "code",
      "source": [
        "print(\"lovelace\" in name_list)"
      ],
      "metadata": {
        "colab": {
          "base_uri": "https://localhost:8080/"
        },
        "id": "h7p1MIhkoLrc",
        "outputId": "2ac9af6e-8d6e-4284-cc58-9d070f6b8a0f"
      },
      "execution_count": 33,
      "outputs": [
        {
          "output_type": "stream",
          "name": "stdout",
          "text": [
            "False\n"
          ]
        }
      ]
    },
    {
      "cell_type": "code",
      "source": [
        "\"a\" in \"Anyone\""
      ],
      "metadata": {
        "colab": {
          "base_uri": "https://localhost:8080/"
        },
        "id": "oV9rTIuZosr3",
        "outputId": "2aa3ae24-d0d9-43b4-90d8-954a266e5bcd"
      },
      "execution_count": 34,
      "outputs": [
        {
          "output_type": "execute_result",
          "data": {
            "text/plain": [
              "False"
            ]
          },
          "metadata": {},
          "execution_count": 34
        }
      ]
    },
    {
      "cell_type": "code",
      "source": [
        "\"a\" in \"Sun Devil Arena\""
      ],
      "metadata": {
        "colab": {
          "base_uri": "https://localhost:8080/"
        },
        "id": "EB2JRVPtozcP",
        "outputId": "3117d00f-0830-430d-cdbc-063ed944f27d"
      },
      "execution_count": 35,
      "outputs": [
        {
          "output_type": "execute_result",
          "data": {
            "text/plain": [
              "True"
            ]
          },
          "metadata": {},
          "execution_count": 35
        }
      ]
    },
    {
      "cell_type": "code",
      "source": [
        "score = 98\n",
        "\n",
        "if score == 100:\n",
        "    print(\"Top marks!\")\n",
        "elif score > 90 and score < 100:\n",
        "    print(\"High score!\")\n",
        "elif score > 10 and score <= 90:\n",
        "    pass\n",
        "else:\n",
        "    print(\"Better luck next time.\")"
      ],
      "metadata": {
        "colab": {
          "base_uri": "https://localhost:8080/"
        },
        "id": "RQ7UIg13prRh",
        "outputId": "ba1e1424-2e62-49e2-c1c1-77842c91e8b2"
      },
      "execution_count": 36,
      "outputs": [
        {
          "output_type": "stream",
          "name": "stdout",
          "text": [
            "High score!\n"
          ]
        }
      ]
    },
    {
      "cell_type": "markdown",
      "source": [
        "what pass does in python?"
      ],
      "metadata": {
        "id": "EHFt03D7qLTB"
      }
    },
    {
      "cell_type": "code",
      "source": [
        "score = 90\n",
        "\n",
        "if score == 100:\n",
        "    print(\"Top marks!\")\n",
        "elif score > 90 and score < 100:\n",
        "    print(\"High score!\")\n",
        "elif score > 10 and score <= 90:\n",
        "    pass\n",
        "else:\n",
        "    print(\"Better luck next time.\")"
      ],
      "metadata": {
        "id": "Lw3MY9Xjp5Tt"
      },
      "execution_count": 37,
      "outputs": []
    },
    {
      "cell_type": "code",
      "source": [
        "orig_number = 4.85  # 4.39898498\n",
        "type(orig_number)"
      ],
      "metadata": {
        "colab": {
          "base_uri": "https://localhost:8080/"
        },
        "id": "EtjyUalMqjht",
        "outputId": "e4bc20b3-4755-4ec8-99f1-83943ca9a57f"
      },
      "execution_count": 40,
      "outputs": [
        {
          "output_type": "execute_result",
          "data": {
            "text/plain": [
              "float"
            ]
          },
          "metadata": {},
          "execution_count": 40
        }
      ]
    },
    {
      "cell_type": "code",
      "source": [
        "mod_number = int(orig_number)\n",
        "mod_number"
      ],
      "metadata": {
        "colab": {
          "base_uri": "https://localhost:8080/"
        },
        "id": "ufQvLEJ8ql5P",
        "outputId": "032f1f50-9567-4ca0-ece7-cec0e5b14de5"
      },
      "execution_count": 42,
      "outputs": [
        {
          "output_type": "execute_result",
          "data": {
            "text/plain": [
              "4"
            ]
          },
          "metadata": {},
          "execution_count": 42
        }
      ]
    },
    {
      "cell_type": "code",
      "source": [
        "a = \"a\"\n",
        "int(a)"
      ],
      "metadata": {
        "colab": {
          "base_uri": "https://localhost:8080/",
          "height": 196
        },
        "id": "5VTxqXeMrAQI",
        "outputId": "e7388dea-b9ae-4269-be75-ce2cb5d2f5cf"
      },
      "execution_count": 43,
      "outputs": [
        {
          "output_type": "error",
          "ename": "ValueError",
          "evalue": "invalid literal for int() with base 10: 'a'",
          "traceback": [
            "\u001b[0;31m---------------------------------------------------------------------------\u001b[0m",
            "\u001b[0;31mValueError\u001b[0m                                Traceback (most recent call last)",
            "\u001b[0;32m<ipython-input-43-4ad50eb6ea07>\u001b[0m in \u001b[0;36m<cell line: 2>\u001b[0;34m()\u001b[0m\n\u001b[1;32m      1\u001b[0m \u001b[0ma\u001b[0m \u001b[0;34m=\u001b[0m \u001b[0;34m\"a\"\u001b[0m\u001b[0;34m\u001b[0m\u001b[0;34m\u001b[0m\u001b[0m\n\u001b[0;32m----> 2\u001b[0;31m \u001b[0mint\u001b[0m\u001b[0;34m(\u001b[0m\u001b[0ma\u001b[0m\u001b[0;34m)\u001b[0m\u001b[0;34m\u001b[0m\u001b[0;34m\u001b[0m\u001b[0m\n\u001b[0m",
            "\u001b[0;31mValueError\u001b[0m: invalid literal for int() with base 10: 'a'"
          ]
        }
      ]
    },
    {
      "cell_type": "code",
      "source": [
        "str(a)"
      ],
      "metadata": {
        "colab": {
          "base_uri": "https://localhost:8080/",
          "height": 37
        },
        "id": "WlmTJhAwrMDD",
        "outputId": "d1019d6a-bfe5-4bef-8ea3-a0e5999d909d"
      },
      "execution_count": 44,
      "outputs": [
        {
          "output_type": "execute_result",
          "data": {
            "text/plain": [
              "'a'"
            ],
            "application/vnd.google.colaboratory.intrinsic+json": {
              "type": "string"
            }
          },
          "metadata": {},
          "execution_count": 44
        }
      ]
    },
    {
      "cell_type": "code",
      "source": [
        "tuple_ex = (2,3,4)\n",
        "list_ex = [2,3,4]"
      ],
      "metadata": {
        "id": "Xc748sJEraqG"
      },
      "execution_count": null,
      "outputs": []
    }
  ]
}
